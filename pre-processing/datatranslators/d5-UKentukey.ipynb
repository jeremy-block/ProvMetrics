{
 "cells": [
  {
   "cell_type": "code",
   "execution_count": 6,
   "metadata": {},
   "outputs": [],
   "source": [
    "import pandas as pd\n",
    "import os\n",
    "import json\n",
    "import math\n",
    "\n",
    "output_folder = '../../data/Dataset_5/interactions/'\n",
    "input_file = '../../data/Dataset_5/events.csv'\n",
    "\n",
    "# Convert numeric values to numbers and multiply by 1000, leave empty cells as they are\n",
    "def multiply_by_1000_if_numeric(value):\n",
    "    try:\n",
    "        numeric_value = float(value)\n",
    "        return numeric_value * 1000\n",
    "    except (ValueError, TypeError):\n",
    "        return value"
   ]
  },
  {
   "cell_type": "code",
   "execution_count": 12,
   "metadata": {},
   "outputs": [
    {
     "name": "stdout",
     "output_type": "stream",
     "text": [
      "JSON files have been saved in the '../../data/Dataset_5/interactions/' folder.\n"
     ]
    }
   ],
   "source": [
    "# 0. Create the output folder if it doesn't exist\n",
    "os.makedirs(output_folder, exist_ok=True)\n",
    "\n",
    "# 1. Load the CSV file\n",
    "df = pd.read_csv(input_file)\n",
    "\n",
    "# 2. Multiply the \"Timestamp\" column by 1000\n",
    "df['Timestamp'] *= 1000\n",
    "# Convert numeric values to numbers and multiply by 1000, leave empty cells as they are\n",
    "df['Start Time'] = df['Start Time'].apply(multiply_by_1000_if_numeric)\n",
    "df['End Time'] = df['End Time'].apply(multiply_by_1000_if_numeric)\n",
    "\n",
    "# 3. Concatenate values from 'Keywords', 'People', and 'Sender' into a new column 'Query String'\n",
    "df['Query String'] = df.apply(lambda row: \" ;; \".join(filter(lambda x: x and str(x) != 'nan', [row['Keywords'], row['People'], row['Sender'], row['Receiver'], str(row['Start Time']), str(row['End Time'])])), axis=1)\n",
    "\n",
    "# 4. Create separate JSON files for each User ID\n",
    "user_ids = df['User ID'].unique()\n",
    "\n",
    "# 5. Create JSON files for each User ID\n",
    "for user_id in user_ids:\n",
    "    user_df = df[df['User ID'] == user_id]\n",
    "    \n",
    "    # Define the output file path for this User ID\n",
    "    output_file_path = os.path.join(output_folder, f'user_{user_id}.json')\n",
    "    \n",
    "    # Convert the DataFrame to JSON and save it\n",
    "    user_json = user_df.to_json(orient='records')\n",
    "    with open(output_file_path, 'w') as json_file:\n",
    "        json_file.write(user_json)\n",
    "\n",
    "print(f\"JSON files have been saved in the '{output_folder}' folder.\")"
   ]
  },
  {
   "cell_type": "code",
   "execution_count": 3,
   "metadata": {},
   "outputs": [
    {
     "name": "stdout",
     "output_type": "stream",
     "text": [
      "JSON file have been saved in the '../../data/Dataset_5/documents.json'.\n"
     ]
    }
   ],
   "source": [
    "#now to convert the Documents.\n",
    "input_file = '../../data/Dataset_5/documents.csv'\n",
    "output_file = '../../data/Dataset_5/documents.json'\n",
    "\n",
    "# 1. Load the CSV file\n",
    "df = pd.read_csv(input_file)\n",
    "\n",
    " # Convert the DataFrame to JSON and save it\n",
    "docs_df = df.to_json(orient='records')\n",
    "with open(output_file, 'w') as json_file:\n",
    "    json_file.write(docs_df)\n",
    "\n",
    "print(f\"JSON file have been saved in the '{output_file}'.\")"
   ]
  }
 ],
 "metadata": {
  "kernelspec": {
   "display_name": "metrics",
   "language": "python",
   "name": "python3"
  },
  "language_info": {
   "codemirror_mode": {
    "name": "ipython",
    "version": 3
   },
   "file_extension": ".py",
   "mimetype": "text/x-python",
   "name": "python",
   "nbconvert_exporter": "python",
   "pygments_lexer": "ipython3",
   "version": "3.10.0"
  }
 },
 "nbformat": 4,
 "nbformat_minor": 2
}
